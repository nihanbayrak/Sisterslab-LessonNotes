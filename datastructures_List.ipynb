{
 "cells": [
  {
   "cell_type": "markdown",
   "metadata": {},
   "source": [
    "**Data Structures**\n",
    "\n",
    "* List\n",
    "* Tuple\n",
    "* Set\n",
    "* Dictionary\n"
   ]
  },
  {
   "cell_type": "markdown",
   "metadata": {},
   "source": [
    "**Listeler**\n",
    "\n",
    "* index ile erişilebilir, ordered yani sıralıdır\n",
    "* mutable(değiştirilebilir) yani liste içine eklenen bir veri değiştirilebilir\n",
    "*  [] tanımlanır. Liste elemanları da virgüller ile ayrılır\n",
    "* Farklı tipte veri içerebilir\n",
    "* Aynı değerlere sahip iki elemana sahip olabilir. Duplicate veri barındırabilir.\n",
    "\n",
    "\n",
    "\n"
   ]
  },
  {
   "cell_type": "code",
   "execution_count": 1,
   "metadata": {},
   "outputs": [],
   "source": [
    "list_int = [1, 6, 8, 4, -1]\n",
    "list_string = [\"Ayşe\", \"Melisa\", \"Sude\", \"Ayşe nur\"]\n",
    "list_bool = [True, False]\n",
    "list_float = [1.2, 4.5, 13.6]\n",
    "\n",
    "list_mix = [\"Hatice\", 23, 10000, True, 13.4 ]"
   ]
  },
  {
   "cell_type": "markdown",
   "metadata": {},
   "source": [
    "**Elemanlara index ile erişim**"
   ]
  },
  {
   "cell_type": "code",
   "execution_count": 4,
   "metadata": {},
   "outputs": [
    {
     "name": "stdout",
     "output_type": "stream",
     "text": [
      "['Hatice', 23, 10000, True, 13.4]\n",
      "0.index değeri: Hatice\n",
      "1.index değeri: 23\n",
      "-1.index değeri: 13.4\n",
      "-2.index değeri: True\n",
      "-3.index değeri: 10000\n"
     ]
    }
   ],
   "source": [
    "print(list_mix)\n",
    "#pozitif indexler  ile erişim\n",
    "print(\"0.index değeri:\", list_mix[0])\n",
    "print(\"1.index değeri:\", list_mix[1])\n",
    "\n",
    "#negatif indexler ile erişim\n",
    "print(\"-1.index değeri:\", list_mix[-1])\n",
    "print(\"-2.index değeri:\", list_mix[-2])\n",
    "print(\"-3.index değeri:\", list_mix[-3])"
   ]
  },
  {
   "cell_type": "code",
   "execution_count": 5,
   "metadata": {},
   "outputs": [
    {
     "ename": "IndexError",
     "evalue": "list index out of range",
     "output_type": "error",
     "traceback": [
      "\u001b[0;31m---------------------------------------------------------------------------\u001b[0m",
      "\u001b[0;31mIndexError\u001b[0m                                Traceback (most recent call last)",
      "\u001b[1;32m/Users/nihan/Documents/SistersLab/SistersLab/LessonNotes/Sisterslab-LessonNotes/datastructures_List.ipynb Hücre 6\u001b[0m in \u001b[0;36m<cell line: 1>\u001b[0;34m()\u001b[0m\n\u001b[0;32m----> <a href='vscode-notebook-cell:/Users/nihan/Documents/SistersLab/SistersLab/LessonNotes/Sisterslab-LessonNotes/datastructures_List.ipynb#X11sZmlsZQ%3D%3D?line=0'>1</a>\u001b[0m list_mix[\u001b[39m7\u001b[39;49m]\n",
      "\u001b[0;31mIndexError\u001b[0m: list index out of range"
     ]
    }
   ],
   "source": [
    "list_mix[7]"
   ]
  },
  {
   "cell_type": "markdown",
   "metadata": {},
   "source": [
    "**Listelerde Uzunluk**"
   ]
  },
  {
   "cell_type": "code",
   "execution_count": 7,
   "metadata": {},
   "outputs": [
    {
     "name": "stdout",
     "output_type": "stream",
     "text": [
      "['Hatice', 23, 10000, True, 13.4]\n",
      "Listemizin uzunluğu: 5\n"
     ]
    }
   ],
   "source": [
    "print(list_mix)\n",
    "print(\"Listemizin uzunluğu:\", len(list_mix))"
   ]
  },
  {
   "cell_type": "markdown",
   "metadata": {},
   "source": [
    "**Slicing**"
   ]
  },
  {
   "cell_type": "code",
   "execution_count": 1,
   "metadata": {},
   "outputs": [
    {
     "name": "stdout",
     "output_type": "stream",
     "text": [
      "['Bilge', 26, 'AI & ML Engineer', True]\n"
     ]
    }
   ],
   "source": [
    "#range gibi. tek tek yerine bir aralık almak için.\n",
    "my_list = [\"Bilge\", 26, \"AI & ML Engineer\", True, 1500.4, \"Menekşe\", \"Merve\", \"Şule\" ]\n",
    "\n",
    "#ilk dört elemanı ekrana basalım\n",
    "print(my_list[0:4])"
   ]
  },
  {
   "cell_type": "code",
   "execution_count": 4,
   "metadata": {},
   "outputs": [
    {
     "name": "stdout",
     "output_type": "stream",
     "text": [
      "['Bilge', 'AI & ML Engineer', 1500.4, 'Merve']\n"
     ]
    }
   ],
   "source": [
    "#her iki elemanda bir atlayarak ekrana bas\n",
    "print(my_list[::2])"
   ]
  },
  {
   "cell_type": "markdown",
   "metadata": {},
   "source": [
    "#2 ile 5 index aralığındaki elemanları basalım\n",
    "\n"
   ]
  },
  {
   "cell_type": "code",
   "execution_count": 5,
   "metadata": {},
   "outputs": [
    {
     "name": "stdout",
     "output_type": "stream",
     "text": [
      "['AI & ML Engineer', True, 1500.4]\n"
     ]
    }
   ],
   "source": [
    "print(my_list[2:5]) #0dan başlıyor yazarken 4.de bitiriyor"
   ]
  },
  {
   "cell_type": "code",
   "execution_count": 6,
   "metadata": {},
   "outputs": [
    {
     "name": "stdout",
     "output_type": "stream",
     "text": [
      "['Şule', 'Merve', 'Menekşe', 1500.4, True, 'AI & ML Engineer', 26, 'Bilge']\n"
     ]
    }
   ],
   "source": [
    "#listeyi tersten yazdıralım\n",
    "print(my_list[::-1])"
   ]
  },
  {
   "cell_type": "markdown",
   "metadata": {},
   "source": [
    "**Döngüler ile listenin elemanlarını yazdırma**"
   ]
  },
  {
   "cell_type": "code",
   "execution_count": 7,
   "metadata": {},
   "outputs": [
    {
     "name": "stdout",
     "output_type": "stream",
     "text": [
      "Bilge\n",
      "26\n",
      "AI & ML Engineer\n",
      "True\n",
      "1500.4\n",
      "Menekşe\n",
      "Merve\n",
      "Şule\n"
     ]
    }
   ],
   "source": [
    "my_list = [\"Bilge\", 26, \"AI & ML Engineer\", True, 1500.4, \"Menekşe\", \"Merve\", \"Şule\" ]\n",
    "for item in my_list:\n",
    "    print(item)\n"
   ]
  },
  {
   "cell_type": "code",
   "execution_count": 8,
   "metadata": {},
   "outputs": [
    {
     "name": "stdout",
     "output_type": "stream",
     "text": [
      "Bilge  -  26  -  AI & ML Engineer  -  True  -  1500.4  -  Menekşe  -  Merve  -  Şule  -  "
     ]
    }
   ],
   "source": [
    "for item in my_list:\n",
    "    print(item, end=\"  -  \")"
   ]
  },
  {
   "cell_type": "markdown",
   "metadata": {},
   "source": [
    "**indexler üzerinden erişim**"
   ]
  },
  {
   "cell_type": "code",
   "execution_count": 11,
   "metadata": {},
   "outputs": [
    {
     "name": "stdout",
     "output_type": "stream",
     "text": [
      "0\n",
      "1\n",
      "2\n",
      "3\n",
      "4\n",
      "5\n",
      "6\n",
      "7\n",
      "0. index değeri: Bilge\n",
      "1. index değeri: 26\n",
      "2. index değeri: AI & ML Engineer\n",
      "3. index değeri: True\n",
      "4. index değeri: 1500.4\n",
      "5. index değeri: Menekşe\n",
      "6. index değeri: Merve\n",
      "7. index değeri: Şule\n"
     ]
    }
   ],
   "source": [
    "for i in range(0, len(my_list)): \n",
    " print(i)\n",
    "\n",
    "for i in range(0, len(my_list)): \n",
    " print(f\"{i}. index değeri: {my_list[i]}\")"
   ]
  },
  {
   "cell_type": "markdown",
   "metadata": {},
   "source": [
    "**Listelere eleman ekleme**\n",
    "* append()\n",
    "* insert()\n",
    "* extend()"
   ]
  },
  {
   "cell_type": "code",
   "execution_count": 12,
   "metadata": {},
   "outputs": [
    {
     "name": "stdout",
     "output_type": "stream",
     "text": [
      "['Bilge', 26, 'AI & ML Engineer', True, 1500.4, 'Menekşe', 'Merve', 'Şule', 'Edanur']\n"
     ]
    }
   ],
   "source": [
    "#append() --> Listenin sonuna eklenir\n",
    "my_list = [\"Bilge\", 26, \"AI & ML Engineer\", True, 1500.4, \"Menekşe\", \"Merve\", \"Şule\" ]\n",
    "my_list.append(\"Edanur\")\n",
    "print(my_list)"
   ]
  },
  {
   "cell_type": "code",
   "execution_count": 18,
   "metadata": {},
   "outputs": [
    {
     "name": "stdout",
     "output_type": "stream",
     "text": [
      "['Betül', 'Betül', 'Betül', 'Betül', 'Betül', 'Betül', 'Betül', 'Betül', 'Betül', 'Bilge', 26, 'AI & ML Engineer', True, 1500.4, 'Menekşe', 'Merve', 'Şule', 'Edanur']\n",
      "['Betül', 'Betül', 'Betül', 'Betül', 'Betül', 'Betül', 'Betül', 'Betül', 'Betül', 'Betül', 'Bilge', 26, 'AI & ML Engineer', True, 1500.4, 'Menekşe', 'Merve', 'Şule', 'Edanur']\n"
     ]
    }
   ],
   "source": [
    "#insert()  --> belirli bir indexe gönderiyorum\n",
    "my_list.insert(0, \"Betül\")\n",
    "print(my_list)\n",
    "my_list.insert(1, \"Betül\")\n",
    "print(my_list)"
   ]
  },
  {
   "cell_type": "code",
   "execution_count": 19,
   "metadata": {},
   "outputs": [
    {
     "name": "stdout",
     "output_type": "stream",
     "text": [
      "['Bilge', 26, 'AI & ML Engineer', True, 1500.4, 'Menekşe', 'Merve', 'Şule']\n",
      "['Bilge', 26, 'AI & ML Engineer', True, 1500.4, 'Menekşe', 'Merve', 'Şule', 1, 2, 3, 4]\n"
     ]
    }
   ],
   "source": [
    "#extend() --> Listenin sonuna ekleme yapar. Birden fazla eleman eklemeye izin verir.\n",
    "my_list = [\"Bilge\", 26, \"AI & ML Engineer\", True, 1500.4, \"Menekşe\", \"Merve\", \"Şule\" ]\n",
    "print(my_list)\n",
    "\n",
    "my_list.extend([1, 2, 3, 4])\n",
    "print(my_list)"
   ]
  },
  {
   "cell_type": "code",
   "execution_count": 21,
   "metadata": {},
   "outputs": [
    {
     "name": "stdout",
     "output_type": "stream",
     "text": [
      "['Bilge', 26, 'AI & ML Engineer', True, 1500.4, 'Menekşe', 'Merve', 'Şule']\n",
      "['Bilge', 26, 'AI & ML Engineer', True, 1500.4, 'Menekşe', 'Merve', 'Şule', 1, 2, 3, 4, [5, 6, 7], [87, 45, 67]]\n"
     ]
    }
   ],
   "source": [
    "my_list = [\"Bilge\", 26, \"AI & ML Engineer\", True, 1500.4, \"Menekşe\", \"Merve\", \"Şule\" ]\n",
    "print(my_list)\n",
    "list=[87,45,67]\n",
    "my_list.extend([1,2,3,4, [5,6,7], list])\n",
    "print(my_list)\n"
   ]
  },
  {
   "cell_type": "markdown",
   "metadata": {},
   "source": [
    "**Liste elemanları üzerinde değişiklik**"
   ]
  },
  {
   "cell_type": "code",
   "execution_count": 24,
   "metadata": {},
   "outputs": [
    {
     "name": "stdout",
     "output_type": "stream",
     "text": [
      "Önceki hali: [1, 4, 6, 7, 8, 3]\n",
      "SOnraki Hali: [78, 4, 6, 7, 8, 3]\n"
     ]
    }
   ],
   "source": [
    "my_list = [1,4,6,7,8,3]\n",
    "print(\"Önceki hali:\" ,my_list)\n",
    "\n",
    "my_list[0]= 78\n",
    "print(\"SOnraki Hali:\", my_list)"
   ]
  },
  {
   "cell_type": "code",
   "execution_count": 25,
   "metadata": {},
   "outputs": [
    {
     "name": "stdout",
     "output_type": "stream",
     "text": [
      "Önceki hali: [78, 4, 6, 7, 8, 3]\n",
      "SOnraki Hali: [78, 12, 13, 14, 8, 3]\n"
     ]
    }
   ],
   "source": [
    "print(\"Önceki hali:\", my_list)\n",
    "my_list[1:4] = [12, 13, 14]\n",
    "print(\"SOnraki Hali:\", my_list)"
   ]
  },
  {
   "cell_type": "code",
   "execution_count": 26,
   "metadata": {},
   "outputs": [
    {
     "name": "stdout",
     "output_type": "stream",
     "text": [
      "Önceki Hali: [1, 4, 6, 7, 8, 3]\n",
      "Sonraki Hali: [2, 5, 7, 8, 9, 4]\n"
     ]
    }
   ],
   "source": [
    "#listenin tüm elemanlarına 1 ekle\n",
    "my_list = [1,4,6,7,8,3]\n",
    "print(\"Önceki Hali:\", my_list)\n",
    "\n",
    "for i in range(0,len(my_list)):\n",
    "    my_list[i] +=1\n",
    "print(\"Sonraki Hali:\", my_list)\n",
    "\n",
    "\n"
   ]
  },
  {
   "cell_type": "markdown",
   "metadata": {},
   "source": [
    "**Listeden eleman silme**\n",
    "* remove()\n",
    "* pop()\n",
    "* clear()\n",
    "* del()"
   ]
  },
  {
   "cell_type": "code",
   "execution_count": 28,
   "metadata": {},
   "outputs": [
    {
     "name": "stdout",
     "output_type": "stream",
     "text": [
      "Önceki hali: [0, 1, 2, 3, 4, 1, 5, 6, 7, 8, 1, 9, 10, 11, 2, 12, 13]\n",
      "Sonraki Hali: [0, 2, 3, 4, 1, 5, 6, 7, 8, 1, 9, 10, 11, 2, 12, 13]\n"
     ]
    }
   ],
   "source": [
    "#remove() --> listeden istenen ilk elemanı siler\n",
    "my_list = [0,1,2,3,4,1,5,6,7,8,1,9,10,11,2, 12,13]\n",
    "print(\"Önceki hali:\", my_list)\n",
    "my_list.remove(1)\n",
    "print(\"Sonraki Hali:\", my_list)"
   ]
  },
  {
   "cell_type": "markdown",
   "metadata": {},
   "source": [
    "**listede olmayan bir elemanın silinmesi**"
   ]
  },
  {
   "cell_type": "code",
   "execution_count": 29,
   "metadata": {},
   "outputs": [
    {
     "name": "stdout",
     "output_type": "stream",
     "text": [
      "Önceki Hali: [0, 2, 3, 4, 1, 5, 6, 7, 8, 1, 9, 10, 11, 2, 12, 13]\n"
     ]
    },
    {
     "ename": "ValueError",
     "evalue": "list.remove(x): x not in list",
     "output_type": "error",
     "traceback": [
      "\u001b[0;31m---------------------------------------------------------------------------\u001b[0m",
      "\u001b[0;31mValueError\u001b[0m                                Traceback (most recent call last)",
      "\u001b[1;32m/Users/nihan/Documents/SistersLab/SistersLab/LessonNotes/Sisterslab-LessonNotes/datastructures_List.ipynb Hücre 32\u001b[0m in \u001b[0;36m<cell line: 3>\u001b[0;34m()\u001b[0m\n\u001b[1;32m      <a href='vscode-notebook-cell:/Users/nihan/Documents/SistersLab/SistersLab/LessonNotes/Sisterslab-LessonNotes/datastructures_List.ipynb#X64sZmlsZQ%3D%3D?line=0'>1</a>\u001b[0m \u001b[39mprint\u001b[39m(\u001b[39m\"\u001b[39m\u001b[39mÖnceki Hali:\u001b[39m\u001b[39m\"\u001b[39m, my_list)\n\u001b[0;32m----> <a href='vscode-notebook-cell:/Users/nihan/Documents/SistersLab/SistersLab/LessonNotes/Sisterslab-LessonNotes/datastructures_List.ipynb#X64sZmlsZQ%3D%3D?line=2'>3</a>\u001b[0m my_list\u001b[39m.\u001b[39;49mremove(\u001b[39m100\u001b[39;49m)\n\u001b[1;32m      <a href='vscode-notebook-cell:/Users/nihan/Documents/SistersLab/SistersLab/LessonNotes/Sisterslab-LessonNotes/datastructures_List.ipynb#X64sZmlsZQ%3D%3D?line=4'>5</a>\u001b[0m \u001b[39mprint\u001b[39m(\u001b[39m\"\u001b[39m\u001b[39mSonraki hali:\u001b[39m\u001b[39m\"\u001b[39m, my_list)\n",
      "\u001b[0;31mValueError\u001b[0m: list.remove(x): x not in list"
     ]
    }
   ],
   "source": [
    "print(\"Önceki Hali:\", my_list)\n",
    "\n",
    "my_list.remove(100)\n",
    "\n",
    "print(\"Sonraki hali:\", my_list)\n"
   ]
  },
  {
   "cell_type": "code",
   "execution_count": 30,
   "metadata": {},
   "outputs": [
    {
     "name": "stdout",
     "output_type": "stream",
     "text": [
      "Önceki hali: ['Zeynep', 'Öykü', 'Betül', 'İrem', 'Nihal', 'İrem', 'Öykü', 'Öykü']\n",
      "Önceki Hali: ['Zeynep', 'Öykü', 'Betül', 'İrem', 'Nihal', 'İrem', 'Öykü']\n",
      "Sonraki Hali: ['Zeynep', 'Öykü', 'İrem', 'Nihal', 'İrem', 'Öykü']\n"
     ]
    }
   ],
   "source": [
    "#pop() --> Herhangi bir index verilmezse listenin son elemanı silinir. Index verilirse de ilgili indexteki eleman silinir.\n",
    "my_list = [\"Zeynep\", \"Öykü\", \"Betül\",\"İrem\", \"Nihal\", \"İrem\", \"Öykü\", \"Öykü\" ]\n",
    "print(\"Önceki hali:\", my_list)\n",
    "\n",
    "my_list.pop()\n",
    "print(\"Önceki Hali:\", my_list)\n",
    "\n",
    "my_list.pop(2)\n",
    "\n",
    "print(\"Sonraki Hali:\", my_list)"
   ]
  },
  {
   "cell_type": "code",
   "execution_count": 33,
   "metadata": {},
   "outputs": [
    {
     "name": "stdout",
     "output_type": "stream",
     "text": [
      "['Zeynep', 'Öykü', 'Betül', 'İrem', 'Nihal', 'İrem', 'Öykü', 'Öykü']\n",
      "Sonraki hali ['Zeynep', 'İrem', 'Nihal', 'İrem', 'Öykü', 'Öykü']\n"
     ]
    },
    {
     "ename": "NameError",
     "evalue": "name 'my_list' is not defined",
     "output_type": "error",
     "traceback": [
      "\u001b[0;31m---------------------------------------------------------------------------\u001b[0m",
      "\u001b[0;31mNameError\u001b[0m                                 Traceback (most recent call last)",
      "\u001b[1;32m/Users/nihan/Documents/SistersLab/SistersLab/LessonNotes/Sisterslab-LessonNotes/datastructures_List.ipynb Hücre 34\u001b[0m in \u001b[0;36m<cell line: 9>\u001b[0;34m()\u001b[0m\n\u001b[1;32m      <a href='vscode-notebook-cell:/Users/nihan/Documents/SistersLab/SistersLab/LessonNotes/Sisterslab-LessonNotes/datastructures_List.ipynb#X66sZmlsZQ%3D%3D?line=5'>6</a>\u001b[0m \u001b[39mprint\u001b[39m(\u001b[39m\"\u001b[39m\u001b[39mSonraki hali\u001b[39m\u001b[39m\"\u001b[39m, my_list)\n\u001b[1;32m      <a href='vscode-notebook-cell:/Users/nihan/Documents/SistersLab/SistersLab/LessonNotes/Sisterslab-LessonNotes/datastructures_List.ipynb#X66sZmlsZQ%3D%3D?line=7'>8</a>\u001b[0m \u001b[39mdel\u001b[39;00m my_list\n\u001b[0;32m----> <a href='vscode-notebook-cell:/Users/nihan/Documents/SistersLab/SistersLab/LessonNotes/Sisterslab-LessonNotes/datastructures_List.ipynb#X66sZmlsZQ%3D%3D?line=8'>9</a>\u001b[0m \u001b[39mprint\u001b[39m(my_list)\n",
      "\u001b[0;31mNameError\u001b[0m: name 'my_list' is not defined"
     ]
    }
   ],
   "source": [
    "#del() --> listeyi tamamen siler\n",
    "my_list = [\"Zeynep\", \"Öykü\", \"Betül\",\"İrem\", \"Nihal\", \"İrem\", \"Öykü\", \"Öykü\" ]\n",
    "print(my_list)\n",
    "\n",
    "del my_list[1:3] #belirtilen aralıktaki değerleri siler\n",
    "print(\"Sonraki hali\", my_list)\n",
    "\n",
    "del my_list\n",
    "print(my_list)"
   ]
  },
  {
   "cell_type": "code",
   "execution_count": 35,
   "metadata": {},
   "outputs": [
    {
     "name": "stdout",
     "output_type": "stream",
     "text": [
      "['Zeynep', 'Öykü', 'Betül', 'İrem', 'Nihal', 'İrem', 'Öykü']\n",
      "[]\n"
     ]
    }
   ],
   "source": [
    "#clear() --> liste içerisindeki tüm elemanları siler. Çıktı olarak da boş liste döner\n",
    "my_list = [\"Zeynep\", \"Öykü\", \"Betül\",\"İrem\", \"Nihal\", \"İrem\", \"Öykü\" ]\n",
    "print(my_list)\n",
    "\n",
    "my_list.clear()\n",
    "print(my_list)"
   ]
  },
  {
   "cell_type": "markdown",
   "metadata": {},
   "source": [
    "**Bir liste içerisindeki elemanı bulma**\n",
    "* \"+\" operatörü ile \n",
    "* extend() metodu ile\n",
    "\n",
    "index()"
   ]
  },
  {
   "cell_type": "code",
   "execution_count": 51,
   "metadata": {},
   "outputs": [
    {
     "name": "stdout",
     "output_type": "stream",
     "text": [
      "2\n",
      "Friends\n",
      "Big Bang Theory\n",
      "Breaking Bad\n",
      "How I met Your Mother\n",
      "['Friends', 'Big Bang Theory', 'Breaking Bad', 'How I met Your Mother']\n"
     ]
    }
   ],
   "source": [
    "movies= [\"Friends\", \"The Office\", \"Big Bang Theory\", \"Breaking Bad\", \"How I met Your Mother\", \"The Office\",  \"The Office\"]\n",
    "print(movies.index(\"Big Bang Theory\"))\n",
    "\n",
    "\n",
    "\n",
    "\n",
    "\n",
    "\n",
    "\n",
    "\n",
    "for item in movies:\n",
    "    print(item)\n",
    "    if item == \"The Office\":\n",
    "        movies.remove(item)\n",
    "print(movies)\n"
   ]
  },
  {
   "cell_type": "markdown",
   "metadata": {},
   "source": [
    "**İki listeyi concat(birleştirme)**"
   ]
  },
  {
   "cell_type": "code",
   "execution_count": 40,
   "metadata": {},
   "outputs": [
    {
     "name": "stdout",
     "output_type": "stream",
     "text": [
      "[1, 2, 3, 4, 5, 6, 1]\n"
     ]
    }
   ],
   "source": [
    "my_list1 = [1,2,3]\n",
    "my_list2 = [4,5,6, 1]\n",
    "\n",
    "my_list3 = my_list1 +my_list2\n",
    "print(my_list3)\n"
   ]
  },
  {
   "cell_type": "code",
   "execution_count": 53,
   "metadata": {},
   "outputs": [],
   "source": [
    "while \"The Office\" in movies: #kontrol. the office listenin içinde olduğu sürece\n",
    "  # movies.pop(movies.index(\"The Office\"))\n",
    "  movies.remove(\"The Office\")"
   ]
  },
  {
   "cell_type": "markdown",
   "metadata": {},
   "source": [
    "**Bir Listenin Kopyalanması**\n",
    "\n",
    "* \"=\" atama operatörü ile\n",
    "* copy ile\n"
   ]
  },
  {
   "cell_type": "code",
   "execution_count": 54,
   "metadata": {},
   "outputs": [
    {
     "name": "stdout",
     "output_type": "stream",
     "text": [
      "[1, 2, 3, 4]\n"
     ]
    }
   ],
   "source": [
    "my_list = [1,2,3]\n",
    "\n",
    "new_list = my_list\n",
    "\n",
    "my_list.append(4)\n",
    "print(new_list)"
   ]
  },
  {
   "cell_type": "code",
   "execution_count": 55,
   "metadata": {},
   "outputs": [
    {
     "name": "stdout",
     "output_type": "stream",
     "text": [
      "[1, 2, 3]\n"
     ]
    }
   ],
   "source": [
    "#copy ile yapılan değişiklik diğerini etkilemiyor\n",
    "\n",
    "my_list =[1,2,3]\n",
    "new_list=my_list.copy()\n",
    "\n",
    "my_list.append(4)\n",
    "print(new_list)"
   ]
  },
  {
   "cell_type": "markdown",
   "metadata": {},
   "source": [
    "* sort\n",
    "* reverse\n",
    "* max, min\n",
    "* sum"
   ]
  },
  {
   "cell_type": "code",
   "execution_count": 56,
   "metadata": {},
   "outputs": [
    {
     "name": "stdout",
     "output_type": "stream",
     "text": [
      "Listenin ilk hali:  [1, 6, 3, 8, 0]\n",
      "Listenin sıralanmış hali:  [0, 1, 3, 6, 8]\n",
      "Listenin tersten sıralanmış hali:  [8, 6, 3, 1, 0]\n",
      "Listenin max. elemanı:  8\n",
      "Listenin min. elemanı:  0\n",
      "Listenin elemanlarının toplamı:  18\n"
     ]
    }
   ],
   "source": [
    "my_list = [1, 6, 3, 8, 0]\n",
    "print(\"Listenin ilk hali: \", my_list)\n",
    "\n",
    "my_list.sort()\n",
    "print(\"Listenin sıralanmış hali: \", my_list)\n",
    "\n",
    "my_list.reverse()\n",
    "print(\"Listenin tersten sıralanmış hali: \", my_list)\n",
    "\n",
    "print(\"Listenin max. elemanı: \", max(my_list))\n",
    "print(\"Listenin min. elemanı: \", min(my_list))\n",
    "print(\"Listenin elemanlarının toplamı: \", sum(my_list))"
   ]
  },
  {
   "cell_type": "markdown",
   "metadata": {},
   "source": [
    "**İç içe listeler**"
   ]
  },
  {
   "cell_type": "code",
   "execution_count": 59,
   "metadata": {},
   "outputs": [
    {
     "name": "stdout",
     "output_type": "stream",
     "text": [
      "Software Dev.\n",
      "AI & ML Engineer\n"
     ]
    }
   ],
   "source": [
    "my_list = [\"Aysel Aydın\", 2015, [\"Software Dev.\", \"Android Dev.\", \"AI & ML Engineer\"], 7,3467]\n",
    "\n",
    "print(my_list[2][0])\n",
    "print(my_list[2][-1])"
   ]
  },
  {
   "cell_type": "code",
   "execution_count": 61,
   "metadata": {},
   "outputs": [
    {
     "name": "stdout",
     "output_type": "stream",
     "text": [
      "[4, 16, 36, 64, 100, 0]\n"
     ]
    }
   ],
   "source": [
    "#bu listedeki çift sayıların karelerinden yeni bir liste oluşturalım\n",
    "my_list = [1,2,3,4,5,6,7,8,9,10,0]\n",
    "new_list = []\n",
    "for item in my_list: #elemanlara erişiyorum\n",
    "    if item % 2 == 0:\n",
    "       new_list.append(item**2)\n",
    "print(new_list)\n",
    "\n",
    "\n",
    "\n"
   ]
  },
  {
   "cell_type": "code",
   "execution_count": 63,
   "metadata": {},
   "outputs": [
    {
     "name": "stdout",
     "output_type": "stream",
     "text": [
      "['Aysel Aydın', 2015, ['Software Dev.', 'Android Dev.', 'AI & ML Engineer', 'Eğitmen'], 7, 3467]\n"
     ]
    }
   ],
   "source": [
    "#Eğitmen title değerini 2.indexe ekleyelim\n",
    "my_list = [\"Aysel Aydın\", 2015, [\"Software Dev.\", \"Android Dev.\", \"AI & ML Engineer\"], 7,3467]\n",
    "my_list[2].append(\"Eğitmen\")\n",
    "#my_list.insert(2,\"Eğitmen\")\n",
    "print(my_list)\n"
   ]
  },
  {
   "cell_type": "code",
   "execution_count": 64,
   "metadata": {},
   "outputs": [
    {
     "name": "stdout",
     "output_type": "stream",
     "text": [
      "[10, 20, 30, 40, 50]\n"
     ]
    }
   ],
   "source": [
    "#duplicate verileri temizleyerek yeni bir liste oluşturalım\n",
    "my_list= [10,10,20,30,10,40,50]\n",
    "unique_list = []\n",
    "for i in my_list:\n",
    "    if i not in unique_list: #yoksa ekliyor. ilk eleman ekledi, baktı diğeri var o yüzden eklemedi\n",
    "        unique_list.append(i)\n",
    "print(unique_list)\n"
   ]
  },
  {
   "cell_type": "code",
   "execution_count": 65,
   "metadata": {},
   "outputs": [
    {
     "name": "stdout",
     "output_type": "stream",
     "text": [
      "10\n"
     ]
    }
   ],
   "source": [
    " #liste içerisindeki en büyük elemanı bulma (min metodu bulunmadan)\n",
    "my_list = [1,2,3,9,5,6,7,8,9,10,0]\n",
    "\n",
    "temp = 0\n",
    "for item in my_list:\n",
    "    if item>temp:\n",
    "        temp = item\n",
    "print(temp)\n"
   ]
  },
  {
   "cell_type": "code",
   "execution_count": 72,
   "metadata": {},
   "outputs": [
    {
     "name": "stdout",
     "output_type": "stream",
     "text": [
      "['Sisterslab', 'Women', 'in', 'tech', 'Python', 'akademimiz', 'tüm', 'hızıyla', 'devam', 'etmektedir']\n",
      "['Sisterslab', 'Women', 'tech', 'Python', 'akademimiz', 'hızıyla', 'devam', 'etmektedir']\n"
     ]
    }
   ],
   "source": [
    "#text içerisinde yer alan kelimelerden uzunluğu dörtten büyük eşit olanları ayrı bir listeye atalım.\n",
    "text = \"Sisterslab Women in tech Python akademimiz tüm hızıyla devam etmektedir\"\n",
    "\n",
    "words=text.split(\" \")\n",
    "print(words)\n",
    "new_list = []\n",
    "for i in words:\n",
    "    if len(i)>=4:\n",
    "        new_list.append(i)\n",
    "print(new_list)\n",
    "\n",
    "\n"
   ]
  }
 ],
 "metadata": {
  "kernelspec": {
   "display_name": "Python 3.10.4 64-bit",
   "language": "python",
   "name": "python3"
  },
  "language_info": {
   "codemirror_mode": {
    "name": "ipython",
    "version": 3
   },
   "file_extension": ".py",
   "mimetype": "text/x-python",
   "name": "python",
   "nbconvert_exporter": "python",
   "pygments_lexer": "ipython3",
   "version": "3.10.4"
  },
  "orig_nbformat": 4,
  "vscode": {
   "interpreter": {
    "hash": "aee8b7b246df8f9039afb4144a1f6fd8d2ca17a180786b69acc140d282b71a49"
   }
  }
 },
 "nbformat": 4,
 "nbformat_minor": 2
}
