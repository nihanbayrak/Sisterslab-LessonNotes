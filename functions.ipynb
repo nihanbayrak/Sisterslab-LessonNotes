{
 "cells": [
  {
   "cell_type": "markdown",
   "metadata": {},
   "source": [
    "**Functions**\n",
    "\n",
    "can be create with \"def\" keyword\n",
    "\n",
    "def function_name (required)\n",
    "    return(optional)"
   ]
  },
  {
   "cell_type": "code",
   "execution_count": 2,
   "metadata": {},
   "outputs": [
    {
     "name": "stdout",
     "output_type": "stream",
     "text": [
      "Welcome\n"
     ]
    }
   ],
   "source": [
    "def greetings():\n",
    "    print(\"Welcome\")\n",
    "greetings() #we need to call the function"
   ]
  },
  {
   "cell_type": "markdown",
   "metadata": {},
   "source": [
    "* Parameter\n",
    "* Without Parameter"
   ]
  },
  {
   "cell_type": "code",
   "execution_count": 3,
   "metadata": {},
   "outputs": [
    {
     "name": "stdout",
     "output_type": "stream",
     "text": [
      "Welcome Ninuş\n"
     ]
    }
   ],
   "source": [
    "def greetings(name): #no need to define parameter type\n",
    "    print(f\"Welcome {name}\")\n",
    "greetings(\"Ninuş\")"
   ]
  },
  {
   "cell_type": "code",
   "execution_count": null,
   "metadata": {},
   "outputs": [],
   "source": [
    "def add(num1,num2):\n",
    "    num3 = num1 + num2\n",
    "    return num3\n",
    "result = add(4,9)\n",
    "print(\"Sonuç\" , result )"
   ]
  },
  {
   "cell_type": "code",
   "execution_count": 4,
   "metadata": {},
   "outputs": [
    {
     "name": "stdout",
     "output_type": "stream",
     "text": [
      "Sonuç: 13\n"
     ]
    }
   ],
   "source": [
    "def add(num1, num2):\n",
    "    num3 = num1 + num2\n",
    "    return num1 + num2\n",
    "print(\"Sonuç:\", add(4,9))"
   ]
  },
  {
   "cell_type": "code",
   "execution_count": null,
   "metadata": {},
   "outputs": [],
   "source": [
    "def add(num1,num2):\n",
    "    print(\"Sonuç:\", num1 + num2)\n",
    "result=add(4,7)\n",
    "#resultı başka bi yerde kullanacaksam"
   ]
  },
  {
   "cell_type": "markdown",
   "metadata": {},
   "source": [
    "**Modülün import edilmesi ile beraber fonksiyon kullanımı**\n",
    "\n"
   ]
  },
  {
   "cell_type": "code",
   "execution_count": 5,
   "metadata": {},
   "outputs": [
    {
     "name": "stdout",
     "output_type": "stream",
     "text": [
      "144\n"
     ]
    }
   ],
   "source": [
    "import random as riri\n",
    "#from random import randint\n",
    "#print(randint(10,200))\n",
    "\n",
    "print(riri.randint(10,200))"
   ]
  },
  {
   "cell_type": "markdown",
   "metadata": {},
   "source": [
    "**Birden fazla dönüş**"
   ]
  },
  {
   "cell_type": "code",
   "execution_count": 7,
   "metadata": {},
   "outputs": [
    {
     "name": "stdout",
     "output_type": "stream",
     "text": [
      "İki değerin;\n",
      "Toplamı: 30\n",
      "Çıkarma: 10\n",
      "Çarpımı: 200\n",
      "Bölme:2\n"
     ]
    }
   ],
   "source": [
    "\n",
    "\n",
    "\n",
    "\n",
    "\n",
    "\n",
    "def calculater(num1, num2):\n",
    "    add = num1 + num2 \n",
    "    sub = num1 - num2\n",
    "    multiply = num1 * num2\n",
    "    division = num1 // num2\n",
    "    return add, sub, multiply, division\n",
    "a, b, c, d = calculater(20,10)\n",
    "print(f\"İki değerin;\\nToplamı: {a}\\nÇıkarma: {b}\\nÇarpımı: {c}\\nBölme:{d}\")\n"
   ]
  },
  {
   "cell_type": "markdown",
   "metadata": {},
   "source": [
    "**variable scope in functions**\n",
    "\n",
    "*Yerel Değişken\n",
    "\n",
    "*Global Değişken\n"
   ]
  },
  {
   "cell_type": "code",
   "execution_count": 8,
   "metadata": {},
   "outputs": [
    {
     "name": "stdout",
     "output_type": "stream",
     "text": [
      "Inside of the function Local\n",
      "Inside of the function Global\n",
      "Outside of the function Global\n"
     ]
    },
    {
     "ename": "NameError",
     "evalue": "name 'local_variable' is not defined",
     "output_type": "error",
     "traceback": [
      "\u001b[0;31m---------------------------------------------------------------------------\u001b[0m",
      "\u001b[0;31mNameError\u001b[0m                                 Traceback (most recent call last)",
      "\u001b[1;32m/Users/nihan/Documents/SistersLab/SistersLab/LessonNotes/Sisterslab-LessonNotes/functions.ipynb Hücre 13\u001b[0m in \u001b[0;36m<cell line: 9>\u001b[0;34m()\u001b[0m\n\u001b[1;32m      <a href='vscode-notebook-cell:/Users/nihan/Documents/SistersLab/SistersLab/LessonNotes/Sisterslab-LessonNotes/functions.ipynb#X23sZmlsZQ%3D%3D?line=6'>7</a>\u001b[0m func()\n\u001b[1;32m      <a href='vscode-notebook-cell:/Users/nihan/Documents/SistersLab/SistersLab/LessonNotes/Sisterslab-LessonNotes/functions.ipynb#X23sZmlsZQ%3D%3D?line=7'>8</a>\u001b[0m \u001b[39mprint\u001b[39m(\u001b[39m\"\u001b[39m\u001b[39mOutside of the function\u001b[39m\u001b[39m\"\u001b[39m, global_variable)\n\u001b[0;32m----> <a href='vscode-notebook-cell:/Users/nihan/Documents/SistersLab/SistersLab/LessonNotes/Sisterslab-LessonNotes/functions.ipynb#X23sZmlsZQ%3D%3D?line=8'>9</a>\u001b[0m \u001b[39mprint\u001b[39m(\u001b[39m\"\u001b[39m\u001b[39mOutside of the function\u001b[39m\u001b[39m\"\u001b[39m, local_variable)\n",
      "\u001b[0;31mNameError\u001b[0m: name 'local_variable' is not defined"
     ]
    }
   ],
   "source": [
    "global_variable = \"Global\"\n",
    "\n",
    "def func():\n",
    "    local_variable =\"Local\"\n",
    "    print(\"Inside of the function\", local_variable)\n",
    "    print(\"Inside of the function\", global_variable)\n",
    "func()\n",
    "print(\"Outside of the function\", global_variable)\n",
    "#print(\"Outside of the function\", local_variable)\n"
   ]
  },
  {
   "cell_type": "code",
   "execution_count": 9,
   "metadata": {},
   "outputs": [
    {
     "name": "stdout",
     "output_type": "stream",
     "text": [
      "9\n",
      "4\n",
      "9\n"
     ]
    }
   ],
   "source": [
    "a=9\n",
    "\n",
    "def print1():\n",
    "    print(a)\n",
    "def print2():\n",
    "    a=4\n",
    "    print(a)\n",
    "def print3():\n",
    "    print(a)\n",
    "print1()\n",
    "print2()\n",
    "print3()"
   ]
  },
  {
   "cell_type": "code",
   "execution_count": 11,
   "metadata": {},
   "outputs": [
    {
     "name": "stdout",
     "output_type": "stream",
     "text": [
      "9\n",
      "4\n",
      "4\n"
     ]
    }
   ],
   "source": [
    "a=9\n",
    "\n",
    "def print1():\n",
    "    print(a)\n",
    "def print2():\n",
    "    global a\n",
    "    a=4\n",
    "    print(a)\n",
    "def print3():\n",
    "    print(a)\n",
    "print1()\n",
    "print2()\n",
    "print3()"
   ]
  },
  {
   "cell_type": "code",
   "execution_count": 15,
   "metadata": {},
   "outputs": [
    {
     "name": "stdout",
     "output_type": "stream",
     "text": [
      "Welcome! hatice\n",
      "Welcome! Sisterslab\n"
     ]
    }
   ],
   "source": [
    "def say_hello(name = \"Sisterslab\"): #default value. if i didnt send parameter, defaulty sending this.\n",
    "    print(\"Welcome!\" , name)\n",
    "say_hello(\"hatice\")\n",
    "say_hello()\n",
    "\n"
   ]
  },
  {
   "cell_type": "code",
   "execution_count": 17,
   "metadata": {},
   "outputs": [
    {
     "name": "stdout",
     "output_type": "stream",
     "text": [
      "Rabia adlı personel 26 yaşında. Maaşı: 10000\n",
      "Zehra adlı personel 25 yaşında. Maaşı: 5000\n"
     ]
    }
   ],
   "source": [
    "def person(name, age, salary = 5000): # name and age mandatory\n",
    "    print(f\"{name} adlı personel {age} yaşında. Maaşı: {salary}\")\n",
    "person(\"Rabia\", 26, 10000)\n",
    "person(\"Zehra\", 25)\n"
   ]
  },
  {
   "cell_type": "markdown",
   "metadata": {},
   "source": [
    "def func(*var):"
   ]
  },
  {
   "cell_type": "code",
   "execution_count": null,
   "metadata": {},
   "outputs": [],
   "source": [
    "def add(*numbers): #for more than 1 value \n",
    "    total = 0\n",
    "    for i in numbers:\n",
    "        total += i\n",
    "    print(\"Toplam: \" , total)\n",
    "add() #0 argument\n",
    "add(1, 4, 6, 8) #4 arguments\n",
    "add(13.6, 7, 90) # 3 arguments\n"
   ]
  },
  {
   "cell_type": "code",
   "execution_count": 18,
   "metadata": {},
   "outputs": [
    {
     "name": "stdout",
     "output_type": "stream",
     "text": [
      " başlangıç: 10 Bitiş: 20\n"
     ]
    }
   ],
   "source": [
    "#Kullanıcının girdiği 2 sayı arasındaki çift sayıları \n",
    "# bulup ortalamasını alan bir fonksiyon yazalım\n",
    "def isEven(num):\n",
    "    return num % 2 == 0\n",
    "start = int(input(\"Başlangıç değeri:\"))\n",
    "end = int(input(\"Bitiş değeri: \"))\n",
    "total = count = 0\n",
    "for item in range(start,end):\n",
    "    if isEven(item):\n",
    "        total += item\n",
    "        count += 1\n",
    "print(f\"{start} ile {end} değerleri arasındaki çift sayıların ortalaması:\", total / count)\n",
    "\n",
    "\n"
   ]
  },
  {
   "cell_type": "code",
   "execution_count": 19,
   "metadata": {},
   "outputs": [
    {
     "name": "stdout",
     "output_type": "stream",
     "text": [
      "True\n"
     ]
    }
   ],
   "source": [
    "#bir sayının asal olup olmadığını dönen fonksiyonu yazalım\n",
    "\n",
    "def isPrime(number):\n",
    "    result = True\n",
    "    for i in range(2, number):\n",
    "        if number % i == 0:\n",
    "            result = False\n",
    "            break\n",
    "    return result\n",
    "print(isPrime(17))"
   ]
  },
  {
   "cell_type": "markdown",
   "metadata": {},
   "source": [
    "**for vs while**\n",
    "\n",
    "for'da eleman sayısı kadar döngü(belirli)\n",
    "while test mekanizması var"
   ]
  },
  {
   "cell_type": "markdown",
   "metadata": {},
   "source": [
    "break & continue\n",
    "* break döngüden çıkar\n",
    "* continue onu geç diğer iterasyondan devam et"
   ]
  },
  {
   "cell_type": "code",
   "execution_count": 8,
   "metadata": {},
   "outputs": [
    {
     "name": "stdout",
     "output_type": "stream",
     "text": [
      "0\n",
      "1\n",
      "2\n",
      "0\n",
      "1\n",
      "2\n"
     ]
    }
   ],
   "source": [
    "for i in range(10):\n",
    "    if i == 3:\n",
    "        break\n",
    "    print(i)\n",
    "\n",
    "x=0\n",
    "while x < 10:\n",
    "    print(x)\n",
    "    x+=1\n",
    "    if x == 3:\n",
    "     break\n"
   ]
  },
  {
   "cell_type": "code",
   "execution_count": 9,
   "metadata": {},
   "outputs": [
    {
     "name": "stdout",
     "output_type": "stream",
     "text": [
      "0\n",
      "1\n",
      "2\n",
      "hey\n",
      "4\n",
      "5\n",
      "6\n",
      "7\n",
      "8\n",
      "9\n",
      "merhaba\n"
     ]
    }
   ],
   "source": [
    "for i in range(10):\n",
    "    if i == 3:\n",
    "        print(\"hey\")\n",
    "        continue\n",
    "    print(i)\n",
    "print(\"merhaba\")"
   ]
  },
  {
   "cell_type": "code",
   "execution_count": 6,
   "metadata": {},
   "outputs": [
    {
     "name": "stdout",
     "output_type": "stream",
     "text": [
      "h\n",
      "e\n",
      "y\n",
      "5050\n",
      "3125\n"
     ]
    }
   ],
   "source": [
    "for c in \"hey\":\n",
    "    print(c)\n",
    "toplam=0\n",
    "for x in range(101):\n",
    "    toplam+=x\n",
    "print(toplam)\n",
    "toplam=1\n",
    "for i in range(5):\n",
    "    toplam*=5\n",
    "print(toplam)\n",
    "\n",
    "\n",
    "\n",
    "\n",
    "\n"
   ]
  },
  {
   "cell_type": "code",
   "execution_count": 17,
   "metadata": {},
   "outputs": [
    {
     "data": {
      "text/plain": [
       "5"
      ]
     },
     "execution_count": 17,
     "metadata": {},
     "output_type": "execute_result"
    }
   ],
   "source": [
    "def square(x):\n",
    "   return x*x\n",
    "square(3)\n",
    "a=square(2)\n",
    "a\n",
    "square(square(3))\n",
    "1 + square(2)\n",
    "\n",
    "def weird():\n",
    "    return 5\n",
    "weird()"
   ]
  },
  {
   "cell_type": "code",
   "execution_count": 29,
   "metadata": {},
   "outputs": [
    {
     "name": "stdout",
     "output_type": "stream",
     "text": [
      "Square of3 : 9\n"
     ]
    },
    {
     "data": {
      "text/plain": [
       "9"
      ]
     },
     "execution_count": 29,
     "metadata": {},
     "output_type": "execute_result"
    }
   ],
   "source": [
    "res = x * x\n",
    "def f(x):\n",
    "    \n",
    "    if x % 2 == 0:\n",
    "        return res\n",
    "    else:\n",
    "        return res + 10\n",
    "print(\"Square of\" + str(x) + \" : \" + str(res))\n",
    "\n",
    "f(10)\n"
   ]
  }
 ],
 "metadata": {
  "kernelspec": {
   "display_name": "Python 3.10.4 64-bit",
   "language": "python",
   "name": "python3"
  },
  "language_info": {
   "codemirror_mode": {
    "name": "ipython",
    "version": 3
   },
   "file_extension": ".py",
   "mimetype": "text/x-python",
   "name": "python",
   "nbconvert_exporter": "python",
   "pygments_lexer": "ipython3",
   "version": "3.10.4"
  },
  "orig_nbformat": 4,
  "vscode": {
   "interpreter": {
    "hash": "aee8b7b246df8f9039afb4144a1f6fd8d2ca17a180786b69acc140d282b71a49"
   }
  }
 },
 "nbformat": 4,
 "nbformat_minor": 2
}
